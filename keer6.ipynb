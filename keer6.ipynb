{
  "nbformat": 4,
  "nbformat_minor": 0,
  "metadata": {
    "colab": {
      "provenance": [],
      "authorship_tag": "ABX9TyPD/5VdRKgSbLQar+t/zrRD",
      "include_colab_link": true
    },
    "kernelspec": {
      "name": "python3",
      "display_name": "Python 3"
    },
    "language_info": {
      "name": "python"
    }
  },
  "cells": [
    {
      "cell_type": "markdown",
      "metadata": {
        "id": "view-in-github",
        "colab_type": "text"
      },
      "source": [
        "<a href=\"https://colab.research.google.com/github/Keerthanabs1326/Elewayte-keerthana-/blob/main/keer6.ipynb\" target=\"_parent\"><img src=\"https://colab.research.google.com/assets/colab-badge.svg\" alt=\"Open In Colab\"/></a>"
      ]
    },
    {
      "cell_type": "code",
      "source": [
        "import pandas as pd\n",
        "from sklearn.model_selection import train_test_split\n",
        "from sklearn.preprocessing import LabelEncoder, StandardScaler\n",
        "from sklearn.svm import SVC\n",
        "from sklearn.linear_model import LogisticRegression\n",
        "from sklearn.metrics import accuracy_score"
      ],
      "metadata": {
        "id": "sY0agIDzVALG"
      },
      "execution_count": null,
      "outputs": []
    },
    {
      "cell_type": "code",
      "source": [
        "df = pd.read_csv(\"/content/CVD_cleaned.csv\")\n",
        "categorical_cols = [\n",
        "    \"General_Health\",\"Checkup\",\"Exercise\",\"Heart_Disease\",\"Skin_Cancer\",\"Other_Cancer\",\"Depression\",\n",
        "    \"Diabetes\",\"Arthritis\",\"Sex\",\"Age_Category\",\"Height_(cm)\",\"Weight_(kg)\",\"BMI\",\"Smoking_History\",\n",
        "    \"Alcohol_Consumption\",\"Fruit_Consumption\",\"Green_Vegetables_Consumption\",\"FriedPotato_Consumption\"\n",
        "]\n",
        "df_encoded = pd.get_dummies(df)\n",
        "le_dict = {}\n",
        "for col in categorical_cols:\n",
        "    le = LabelEncoder()\n",
        "    df[col] = le.fit_transform(df[col])\n",
        "    le_dict[col] = le"
      ],
      "metadata": {
        "id": "MjIQk8OzVGA3"
      },
      "execution_count": null,
      "outputs": []
    },
    {
      "cell_type": "code",
      "source": [
        "X = df.drop(\"General_Health\", axis=1)\n",
        "y = df[\"General_Health\"]\n",
        "X_train, X_test, y_train, y_test = train_test_split(X, y, test_size=0.2, random_state=42)"
      ],
      "metadata": {
        "id": "QnEN9aUwWx3C"
      },
      "execution_count": null,
      "outputs": []
    },
    {
      "cell_type": "code",
      "source": [
        "scaler = StandardScaler()\n",
        "X_train_scaled = scaler.fit_transform(X_train)\n",
        "X_test_scaled = scaler.transform(X_test)"
      ],
      "metadata": {
        "id": "Aaqmnh9OXBNs"
      },
      "execution_count": null,
      "outputs": []
    },
    {
      "cell_type": "markdown",
      "source": [
        "I have included Linear SVC beacuse it was taking more time to fit to the model"
      ],
      "metadata": {
        "id": "X-PPRej1iI6W"
      }
    },
    {
      "cell_type": "code",
      "source": [
        "from sklearn.svm import LinearSVC\n",
        "from sklearn.metrics import accuracy_score\n",
        "lin_svc = LinearSVC()\n",
        "lin_svc.fit(X_train_scaled, y_train)\n",
        "svc_pred = lin_svc.predict(X_test_scaled)\n",
        "acc1=accuracy_score(y_test, svc_pred)\n",
        "print(\"SVC Accuracy:\", acc1)"
      ],
      "metadata": {
        "colab": {
          "base_uri": "https://localhost:8080/"
        },
        "id": "DSJ1ZQk4hW8O",
        "outputId": "cefdac21-e775-42c6-b149-0003a020cd8b"
      },
      "execution_count": null,
      "outputs": [
        {
          "output_type": "stream",
          "name": "stdout",
          "text": [
            "SVC Accuracy: 0.4170565475708666\n"
          ]
        }
      ]
    },
    {
      "cell_type": "code",
      "source": [
        "lr = LogisticRegression(max_iter=1000)\n",
        "lr.fit(X_train_scaled, y_train)\n",
        "lr_pred = lr.predict(X_test_scaled)\n",
        "acc2=accuracy_score(y_test, lr_pred)\n",
        "print(\"Logistic Regression Accuracy:\", acc1)"
      ],
      "metadata": {
        "colab": {
          "base_uri": "https://localhost:8080/"
        },
        "id": "5_M2efX2iHYc",
        "outputId": "f3f96c0a-5dd5-470b-cf44-7dc4f8a782b4"
      },
      "execution_count": null,
      "outputs": [
        {
          "output_type": "stream",
          "name": "stdout",
          "text": [
            "Logistic Regression Accuracy: 0.42555568146865036\n"
          ]
        }
      ]
    },
    {
      "cell_type": "code",
      "source": [
        "from sklearn.ensemble import RandomForestClassifier as Random_Forest_Classifier\n",
        "rf = Random_Forest_Classifier()\n",
        "rf.fit(X_train_scaled, y_train)\n",
        "rf_pred = rf.predict(X_test_scaled)\n",
        "acc3=accuracy_score(y_test, rf_pred)\n",
        "print(\"Random Forest Accuracy:\", acc2)"
      ],
      "metadata": {
        "colab": {
          "base_uri": "https://localhost:8080/"
        },
        "id": "Dkyh5uMgiS5b",
        "outputId": "1e8ea3ef-b92c-47a2-855b-da1aed71c129"
      },
      "execution_count": null,
      "outputs": [
        {
          "output_type": "stream",
          "name": "stdout",
          "text": [
            "Random Forest Accuracy: 0.40619384500817535\n"
          ]
        }
      ]
    },
    {
      "cell_type": "code",
      "source": [
        "import matplotlib.pyplot as plt\n",
        "acc1 = 0.4170565475708666\n",
        "acc2 = 0.425555568146865036\n",
        "acc3 = 0.40619384500817535\n",
        "models = ['SVC', 'Logistic Regression', 'Random Forest']\n",
        "accuracies = [acc1, acc2, acc3]\n",
        "plt.figure(figsize=(8,5))\n",
        "bars = plt.bar(models, accuracies, color=['royalblue', 'limegreen', 'orange'])\n",
        "plt.ylim(0,1)\n",
        "plt.ylabel('Accuracy')\n",
        "plt.title('Model Accuracy Comparison')\n",
        "for bar, acc in zip(bars, accuracies):\n",
        "    plt.text(bar.get_x() + bar.get_width()/2, bar.get_height() + 0.01,\n",
        "             f\"{acc:.2f}\", ha='center', fontweight='bold')\n",
        "\n",
        "plt.show()"
      ],
      "metadata": {
        "colab": {
          "base_uri": "https://localhost:8080/",
          "height": 468
        },
        "id": "uTxEHqA8rmER",
        "outputId": "faac924e-0b20-4e85-c99c-b7826d1d5b53"
      },
      "execution_count": null,
      "outputs": [
        {
          "output_type": "display_data",
          "data": {
            "text/plain": [
              "<Figure size 800x500 with 1 Axes>"
            ],
            "image/png": "[encoded data removed]"
          },
          "metadata": {}
        }
      ]
    }
  ]
}